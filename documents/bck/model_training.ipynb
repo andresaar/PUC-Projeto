{
 "cells": [
  {
   "cell_type": "markdown",
   "metadata": {},
   "source": [
    "# Model training\n",
    "\n",
    "In this section the treated data will be fitted to be inputs, the model will be structured and trained."
   ]
  },
  {
   "cell_type": "markdown",
   "metadata": {},
   "source": [
    "## Data Transform"
   ]
  },
  {
   "cell_type": "markdown",
   "metadata": {},
   "source": [
    "Load the data from the stored JSON file."
   ]
  },
  {
   "cell_type": "code",
   "execution_count": 2,
   "metadata": {},
   "outputs": [
    {
     "name": "stdout",
     "output_type": "stream",
     "text": [
      "160_EIGHTMEASURE_EXERCISES_NO_1\n",
      "         start        end  pitch  duration  time_to_next\n",
      "0     0.000000   0.136364     76  0.136364      0.000000\n",
      "1     0.000000   0.545455     60  0.545455      0.000000\n",
      "2     0.000000   0.545455     67  0.545455      0.136364\n",
      "3     0.136364   0.272727     79  0.136364      0.136364\n",
      "4     0.272727   0.409091     77  0.136364      0.136364\n",
      "..         ...        ...    ...       ...           ...\n",
      "147  15.818182  15.954545     72  0.136364      0.136364\n",
      "148  15.954545  16.090909     76  0.136364      0.136364\n",
      "149  16.090909  16.227273     79  0.136364      0.136364\n",
      "150  16.227273  16.363636     84  0.136364      0.136364\n",
      "151  16.363636  16.636364     72  0.272727      0.000000\n",
      "\n",
      "[152 rows x 5 columns]\n"
     ]
    }
   ],
   "source": [
    "from sklearn.preprocessing import MinMaxScaler\n",
    "from joblib import dump\n",
    "import pandas as pd\n",
    "import numpy as np\n",
    "import json\n",
    "\n",
    "with open(\".\\\\data\\\\treated_data.json\") as f:\n",
    "    data_dict = json.load(f)\n",
    "    for song_name, song_data in data_dict.items():\n",
    "        data_dict.update({song_name: pd.read_json(song_data)})\n",
    "\n",
    "key = list(data_dict.keys())[0]\n",
    "print(f\"{key}\\n{data_dict[key]}\")"
   ]
  },
  {
   "cell_type": "markdown",
   "metadata": {},
   "source": [
    "Previous metrics to compare."
   ]
  },
  {
   "cell_type": "code",
   "execution_count": 4,
   "metadata": {},
   "outputs": [],
   "source": [
    "note_duration = pd.Series(dtype=\"float64\")\n",
    "time_to_next = pd.Series(dtype=\"float64\")\n",
    "pitch = pd.Series(dtype=\"float64\")\n",
    "for song in data_dict.values():\n",
    "    time_to_next = pd.concat([time_to_next, song['time_to_next']])\n",
    "    note_duration = pd.concat([note_duration, song['duration']])\n",
    "    pitch = pd.concat([pitch, song['pitch']])"
   ]
  },
  {
   "cell_type": "markdown",
   "metadata": {},
   "source": [
    "In an attempt to make the attributes more symetric, a base 2 log was applied to the \"duration\" attribute, and a base 100 log was applied to the \"time_to_next\" attribute."
   ]
  },
  {
   "cell_type": "code",
   "execution_count": 5,
   "metadata": {},
   "outputs": [
    {
     "name": "stdout",
     "output_type": "stream",
     "text": [
      "Duration:\n",
      "count    789917.000000\n",
      "mean         -1.731872\n",
      "std           1.086461\n",
      "min          -3.923379\n",
      "25%          -2.552541\n",
      "50%          -2.000000\n",
      "75%          -1.000000\n",
      "max           2.807355\n",
      "dtype: float64\n",
      "Time to Next:\n",
      "count    789917.000000\n",
      "mean          0.023792\n",
      "std           0.033267\n",
      "min           0.000000\n",
      "25%           0.000000\n",
      "50%           0.000000\n",
      "75%           0.041229\n",
      "max           0.480549\n",
      "dtype: float64\n"
     ]
    }
   ],
   "source": [
    "for song in data_dict.values():\n",
    "    song.loc[:, 'duration'] = np.log2(song.duration)\n",
    "    song.loc[:, 'time_to_next'] = np.log(song.time_to_next + 1)/np.log(100) ## needed to add 1 to avoid 0 value for the log\n",
    "\n",
    "note_duration2 = pd.Series(dtype=\"float64\")\n",
    "time_to_next2 = pd.Series(dtype=\"float64\")\n",
    "for song in data_dict.values():\n",
    "    time_to_next2 = pd.concat([time_to_next2, song['time_to_next']])\n",
    "    note_duration2 = pd.concat([note_duration2, song['duration']])\n",
    "\n",
    "print(f\"Duration:\\n{note_duration2.describe()}\")\n",
    "print(f\"Time to Next:\\n{time_to_next2.describe()}\")"
   ]
  },
  {
   "cell_type": "markdown",
   "metadata": {},
   "source": [
    "Normalize values between 0 and 1."
   ]
  },
  {
   "cell_type": "code",
   "execution_count": 6,
   "metadata": {},
   "outputs": [],
   "source": [
    "duration_scaler = MinMaxScaler()\n",
    "time_to_next_scaler = MinMaxScaler()\n",
    "\n",
    "duration_sc = MinMaxScaler().fit_transform(np.array(note_duration[:]).reshape(-1,1)).flatten()\n",
    "duration2_sc = duration_scaler.fit_transform(np.array(note_duration2[:]).reshape(-1,1)).flatten()\n",
    "\n",
    "time_to_next_sc = MinMaxScaler().fit_transform(np.array(time_to_next[:]).reshape(-1,1)).flatten()\n",
    "time_to_next2_sc = time_to_next_scaler.fit_transform(np.array(time_to_next2[:]).reshape(-1,1)).flatten()"
   ]
  },
  {
   "cell_type": "markdown",
   "metadata": {},
   "source": [
    "Comparison between original and log'd values."
   ]
  },
  {
   "cell_type": "code",
   "execution_count": 5,
   "metadata": {},
   "outputs": [
    {
     "data": {
      "text/plain": [
       "<AxesSubplot:>"
      ]
     },
     "execution_count": 5,
     "metadata": {},
     "output_type": "execute_result"
    },
    {
     "data": {
      "image/png": "[encoded data removed]",
      "text/plain": [
       "<Figure size 432x288 with 1 Axes>"
      ]
     },
     "metadata": {
      "needs_background": "light"
     },
     "output_type": "display_data"
    }
   ],
   "source": [
    "pd.DataFrame({'duration': duration_sc.flatten(), 'log2 duration': duration2_sc.flatten()}).plot.box()"
   ]
  },
  {
   "cell_type": "code",
   "execution_count": 6,
   "metadata": {},
   "outputs": [
    {
     "data": {
      "text/plain": [
       "<AxesSubplot:>"
      ]
     },
     "execution_count": 6,
     "metadata": {},
     "output_type": "execute_result"
    },
    {
     "data": {
      "image/png": "[encoded data removed]",
      "text/plain": [
       "<Figure size 432x288 with 1 Axes>"
      ]
     },
     "metadata": {
      "needs_background": "light"
     },
     "output_type": "display_data"
    }
   ],
   "source": [
    "pd.DataFrame({'time to next': time_to_next_sc, 'log100 time to next': time_to_next2_sc}).plot.box()"
   ]
  },
  {
   "cell_type": "markdown",
   "metadata": {},
   "source": [
    "The pitch values are pretty symetric, so they can be just normalized from 0 to 1."
   ]
  },
  {
   "cell_type": "code",
   "execution_count": 7,
   "metadata": {},
   "outputs": [],
   "source": [
    "pitch_scaler = MinMaxScaler()\n",
    "\n",
    "pitch_sc = pitch_scaler.fit_transform(np.array(pitch[:]).reshape(-1,1)).flatten()"
   ]
  },
  {
   "cell_type": "code",
   "execution_count": 8,
   "metadata": {},
   "outputs": [
    {
     "data": {
      "text/plain": [
       "['.\\\\data\\\\time_to_next_scaler.save']"
      ]
     },
     "execution_count": 8,
     "metadata": {},
     "output_type": "execute_result"
    }
   ],
   "source": [
    "## storing the scalers\n",
    "\n",
    "dump(pitch_scaler, \".\\\\data\\\\pitch_scaler.save\")\n",
    "dump(duration_scaler, \".\\\\data\\\\duration_scaler.save\")\n",
    "dump(time_to_next_scaler, \".\\\\data\\\\time_to_next_scaler.save\")"
   ]
  },
  {
   "cell_type": "markdown",
   "metadata": {},
   "source": [
    "## Creating input arrays"
   ]
  },
  {
   "cell_type": "markdown",
   "metadata": {},
   "source": [
    "Using 10 notes to predict the next one.\n",
    "Separation of training inputs as 90% of data, and 10% for validation."
   ]
  },
  {
   "cell_type": "code",
   "execution_count": 9,
   "metadata": {},
   "outputs": [],
   "source": [
    "data = list(zip(pitch_sc, duration2_sc, time_to_next2_sc))\n",
    "\n",
    "samples = 10\n",
    "predict = 1\n",
    "X_train, X_test = [], []\n",
    "Y_train, Y_test = [], []\n",
    "train_pct = 0.9\n",
    "\n",
    "notes_cnt = 0\n",
    "for song in data_dict.values():\n",
    "    test_tresh = round(train_pct * song.shape[0])\n",
    "    for i in range(song.shape[0] - samples):\n",
    "        if i < test_tresh:\n",
    "            X_train.append(data[notes_cnt+i:notes_cnt+i+samples])\n",
    "            Y_train.append(data[notes_cnt+i+samples])\n",
    "        else:\n",
    "            X_test.append(data[notes_cnt+i:notes_cnt+i+samples])\n",
    "            Y_test.append(data[notes_cnt+i+samples])\n",
    "    notes_cnt += song.shape[0]"
   ]
  },
  {
   "cell_type": "code",
   "execution_count": 10,
   "metadata": {},
   "outputs": [
    {
     "name": "stdout",
     "output_type": "stream",
     "text": [
      "Shape of X:\n",
      "Train: (710876, 10, 3)\tTest: (71871, 10, 3)\n",
      "Shape of Y:\n",
      "Train: (710876, 3)\tTest: (71871, 3)\n"
     ]
    }
   ],
   "source": [
    "X_train, X_test = np.array(X_train), np.array(X_test)\n",
    "Y_train, Y_test = np.array(Y_train), np.array(Y_test)\n",
    "\n",
    "print(f\"Shape of X:\\nTrain: {X_train.shape}\\tTest: {X_test.shape}\")\n",
    "print(f\"Shape of Y:\\nTrain: {Y_train.shape}\\tTest: {Y_test.shape}\")"
   ]
  },
  {
   "cell_type": "markdown",
   "metadata": {},
   "source": [
    "## Model Structure and Training\n",
    "\n",
    "Two approches were thought for the RNN model: one using one model to try to generate all three of the note attributes; and a second using three separate models, each one to predict a different attribute.\n",
    "\n",
    "Both models are built using GRU cells due to their ability of long term memory."
   ]
  },
  {
   "cell_type": "code",
   "execution_count": 11,
   "metadata": {},
   "outputs": [],
   "source": [
    "from keras import layers, Sequential, callbacks\n",
    "import matplotlib.pyplot as plt"
   ]
  },
  {
   "cell_type": "markdown",
   "metadata": {},
   "source": [
    "### Single Model Approach"
   ]
  },
  {
   "cell_type": "markdown",
   "metadata": {},
   "source": [
    "#### Model Structure"
   ]
  },
  {
   "cell_type": "markdown",
   "metadata": {},
   "source": [
    "This model will be a Sequential keras model with the following layers:\n",
    "\n",
    "* GRU layer (30 units)\n",
    "* Dropout of 20%\n",
    "* Dense layer with 3 outputs (for the three note attributes)"
   ]
  },
  {
   "cell_type": "code",
   "execution_count": 11,
   "metadata": {},
   "outputs": [
    {
     "name": "stdout",
     "output_type": "stream",
     "text": [
      "Model: \"sequential\"\n",
      "_________________________________________________________________\n",
      " Layer (type)                Output Shape              Param #   \n",
      "=================================================================\n",
      " gru (GRU)                   (None, 30)                3150      \n",
      "                                                                 \n",
      " dropout (Dropout)           (None, 30)                0         \n",
      "                                                                 \n",
      " dense (Dense)               (None, 3)                 93        \n",
      "                                                                 \n",
      "=================================================================\n",
      "Total params: 3,243\n",
      "Trainable params: 3,243\n",
      "Non-trainable params: 0\n",
      "_________________________________________________________________\n"
     ]
    }
   ],
   "source": [
    "model = Sequential()\n",
    "\n",
    "model.add(layers.GRU(\n",
    "    30,\n",
    "    activation = \"tanh\",\n",
    "    recurrent_activation = \"sigmoid\",\n",
    "    input_shape = (X_train.shape[1], X_train.shape[2])\n",
    "))\n",
    "\n",
    "model.add(layers.Dropout(rate=0.2))\n",
    "\n",
    "model.add(layers.Dense(3))\n",
    "\n",
    "model.compile(loss='mean_squared_error', optimizer='adam')\n",
    "\n",
    "model.summary()"
   ]
  },
  {
   "cell_type": "markdown",
   "metadata": {},
   "source": [
    "#### Model Training"
   ]
  },
  {
   "cell_type": "code",
   "execution_count": 12,
   "metadata": {},
   "outputs": [
    {
     "name": "stdout",
     "output_type": "stream",
     "text": [
      "Epoch 1/100\n",
      "17772/17772 [==============================] - 53s 3ms/step - loss: 0.0103 - val_loss: 0.0092\n",
      "Epoch 2/100\n",
      "17772/17772 [==============================] - 52s 3ms/step - loss: 0.0088 - val_loss: 0.0082\n",
      "Epoch 3/100\n",
      "17772/17772 [==============================] - 52s 3ms/step - loss: 0.0081 - val_loss: 0.0076\n",
      "Epoch 4/100\n",
      "17772/17772 [==============================] - 46s 3ms/step - loss: 0.0077 - val_loss: 0.0074\n",
      "Epoch 5/100\n",
      "17772/17772 [==============================] - 44s 2ms/step - loss: 0.0075 - val_loss: 0.0073\n",
      "Epoch 6/100\n",
      "17772/17772 [==============================] - 44s 2ms/step - loss: 0.0073 - val_loss: 0.0073\n",
      "Epoch 7/100\n",
      "17772/17772 [==============================] - 44s 2ms/step - loss: 0.0073 - val_loss: 0.0072\n",
      "Epoch 8/100\n",
      "17772/17772 [==============================] - 44s 2ms/step - loss: 0.0072 - val_loss: 0.0070\n",
      "Epoch 9/100\n",
      "17772/17772 [==============================] - 44s 2ms/step - loss: 0.0071 - val_loss: 0.0070\n",
      "Epoch 10/100\n",
      "17772/17772 [==============================] - 44s 2ms/step - loss: 0.0070 - val_loss: 0.0069\n",
      "Epoch 11/100\n",
      "17772/17772 [==============================] - 46s 3ms/step - loss: 0.0070 - val_loss: 0.0068\n",
      "Epoch 12/100\n",
      "17772/17772 [==============================] - 44s 2ms/step - loss: 0.0069 - val_loss: 0.0068\n",
      "Epoch 13/100\n",
      "17772/17772 [==============================] - 46s 3ms/step - loss: 0.0069 - val_loss: 0.0068\n",
      "Epoch 14/100\n",
      "17772/17772 [==============================] - 46s 3ms/step - loss: 0.0069 - val_loss: 0.0067\n",
      "Epoch 15/100\n",
      "17772/17772 [==============================] - 47s 3ms/step - loss: 0.0068 - val_loss: 0.0067\n",
      "Epoch 16/100\n",
      "17772/17772 [==============================] - 48s 3ms/step - loss: 0.0068 - val_loss: 0.0067\n",
      "Epoch 17/100\n",
      "17772/17772 [==============================] - 48s 3ms/step - loss: 0.0068 - val_loss: 0.0067\n",
      "Epoch 18/100\n",
      "17772/17772 [==============================] - 48s 3ms/step - loss: 0.0068 - val_loss: 0.0067\n",
      "Epoch 19/100\n",
      "17772/17772 [==============================] - 48s 3ms/step - loss: 0.0068 - val_loss: 0.0067\n",
      "Epoch 20/100\n",
      "17772/17772 [==============================] - 48s 3ms/step - loss: 0.0067 - val_loss: 0.0067\n",
      "Epoch 21/100\n",
      "17772/17772 [==============================] - 48s 3ms/step - loss: 0.0067 - val_loss: 0.0066\n",
      "Epoch 22/100\n",
      "17772/17772 [==============================] - 48s 3ms/step - loss: 0.0067 - val_loss: 0.0067\n",
      "Epoch 23/100\n",
      "17772/17772 [==============================] - 50s 3ms/step - loss: 0.0067 - val_loss: 0.0067\n",
      "Epoch 24/100\n",
      "17772/17772 [==============================] - 50s 3ms/step - loss: 0.0067 - val_loss: 0.0066\n",
      "Epoch 25/100\n",
      "17772/17772 [==============================] - 48s 3ms/step - loss: 0.0067 - val_loss: 0.0066\n",
      "Epoch 26/100\n",
      "17772/17772 [==============================] - 47s 3ms/step - loss: 0.0067 - val_loss: 0.0066\n",
      "Epoch 27/100\n",
      "17772/17772 [==============================] - 48s 3ms/step - loss: 0.0066 - val_loss: 0.0066\n",
      "Epoch 28/100\n",
      "17772/17772 [==============================] - 45s 3ms/step - loss: 0.0066 - val_loss: 0.0066\n",
      "Epoch 29/100\n",
      "17772/17772 [==============================] - 44s 2ms/step - loss: 0.0066 - val_loss: 0.0066\n",
      "Epoch 30/100\n",
      "17772/17772 [==============================] - 44s 2ms/step - loss: 0.0066 - val_loss: 0.0066\n",
      "Epoch 31/100\n",
      "17772/17772 [==============================] - 44s 2ms/step - loss: 0.0066 - val_loss: 0.0066\n",
      "Epoch 32/100\n",
      "17772/17772 [==============================] - 44s 2ms/step - loss: 0.0066 - val_loss: 0.0065\n",
      "Epoch 33/100\n",
      "17772/17772 [==============================] - 44s 2ms/step - loss: 0.0066 - val_loss: 0.0065\n",
      "Epoch 34/100\n",
      "17772/17772 [==============================] - 44s 2ms/step - loss: 0.0066 - val_loss: 0.0065\n",
      "Epoch 35/100\n",
      "17772/17772 [==============================] - 44s 2ms/step - loss: 0.0066 - val_loss: 0.0065\n",
      "Epoch 36/100\n",
      "17772/17772 [==============================] - 44s 2ms/step - loss: 0.0066 - val_loss: 0.0065\n",
      "Epoch 37/100\n",
      "17772/17772 [==============================] - 44s 2ms/step - loss: 0.0066 - val_loss: 0.0065\n",
      "Epoch 38/100\n",
      "17772/17772 [==============================] - 43s 2ms/step - loss: 0.0065 - val_loss: 0.0065\n",
      "Epoch 39/100\n",
      "17772/17772 [==============================] - 44s 2ms/step - loss: 0.0065 - val_loss: 0.0065\n",
      "Epoch 40/100\n",
      "17772/17772 [==============================] - 44s 2ms/step - loss: 0.0065 - val_loss: 0.0064\n",
      "Epoch 41/100\n",
      "17772/17772 [==============================] - 43s 2ms/step - loss: 0.0065 - val_loss: 0.0065\n",
      "Epoch 42/100\n",
      "17772/17772 [==============================] - 42s 2ms/step - loss: 0.0065 - val_loss: 0.0065\n",
      "Epoch 43/100\n",
      "17772/17772 [==============================] - 42s 2ms/step - loss: 0.0065 - val_loss: 0.0064\n",
      "Epoch 44/100\n",
      "17772/17772 [==============================] - 42s 2ms/step - loss: 0.0065 - val_loss: 0.0064\n",
      "Epoch 45/100\n",
      "17772/17772 [==============================] - 42s 2ms/step - loss: 0.0065 - val_loss: 0.0064\n",
      "Epoch 46/100\n",
      "17772/17772 [==============================] - 42s 2ms/step - loss: 0.0065 - val_loss: 0.0064\n",
      "Epoch 47/100\n",
      "17772/17772 [==============================] - 42s 2ms/step - loss: 0.0065 - val_loss: 0.0064\n",
      "Epoch 48/100\n",
      "17772/17772 [==============================] - 42s 2ms/step - loss: 0.0065 - val_loss: 0.0064\n",
      "Epoch 49/100\n",
      "17772/17772 [==============================] - 42s 2ms/step - loss: 0.0065 - val_loss: 0.0064\n",
      "Epoch 50/100\n",
      "17772/17772 [==============================] - 42s 2ms/step - loss: 0.0065 - val_loss: 0.0064\n",
      "Epoch 51/100\n",
      "17772/17772 [==============================] - 42s 2ms/step - loss: 0.0065 - val_loss: 0.0064\n",
      "Epoch 52/100\n",
      "17772/17772 [==============================] - 42s 2ms/step - loss: 0.0065 - val_loss: 0.0064\n",
      "Epoch 53/100\n",
      "17772/17772 [==============================] - 42s 2ms/step - loss: 0.0065 - val_loss: 0.0064\n",
      "Epoch 54/100\n",
      "17772/17772 [==============================] - 42s 2ms/step - loss: 0.0065 - val_loss: 0.0064\n",
      "Epoch 55/100\n",
      "17772/17772 [==============================] - 42s 2ms/step - loss: 0.0065 - val_loss: 0.0064\n",
      "Epoch 56/100\n",
      "17772/17772 [==============================] - 42s 2ms/step - loss: 0.0065 - val_loss: 0.0064\n",
      "Epoch 57/100\n",
      "17772/17772 [==============================] - 42s 2ms/step - loss: 0.0065 - val_loss: 0.0064\n",
      "Epoch 58/100\n",
      "17772/17772 [==============================] - 42s 2ms/step - loss: 0.0065 - val_loss: 0.0064\n",
      "Epoch 59/100\n",
      "17772/17772 [==============================] - 42s 2ms/step - loss: 0.0065 - val_loss: 0.0063\n",
      "Epoch 60/100\n",
      "17772/17772 [==============================] - 42s 2ms/step - loss: 0.0065 - val_loss: 0.0063\n",
      "Epoch 61/100\n",
      "17772/17772 [==============================] - 42s 2ms/step - loss: 0.0064 - val_loss: 0.0063\n",
      "Epoch 62/100\n",
      "17772/17772 [==============================] - 42s 2ms/step - loss: 0.0065 - val_loss: 0.0063\n",
      "Epoch 63/100\n",
      "17772/17772 [==============================] - 42s 2ms/step - loss: 0.0064 - val_loss: 0.0063\n",
      "Epoch 64/100\n",
      "17772/17772 [==============================] - 42s 2ms/step - loss: 0.0064 - val_loss: 0.0063\n",
      "Epoch 65/100\n",
      "17772/17772 [==============================] - 42s 2ms/step - loss: 0.0064 - val_loss: 0.0063\n",
      "Epoch 66/100\n",
      "17772/17772 [==============================] - 42s 2ms/step - loss: 0.0064 - val_loss: 0.0063\n",
      "Epoch 67/100\n",
      "17772/17772 [==============================] - 42s 2ms/step - loss: 0.0064 - val_loss: 0.0063\n",
      "Epoch 68/100\n",
      "17772/17772 [==============================] - 42s 2ms/step - loss: 0.0064 - val_loss: 0.0063\n",
      "Epoch 69/100\n",
      "17772/17772 [==============================] - 42s 2ms/step - loss: 0.0064 - val_loss: 0.0063\n",
      "Epoch 70/100\n",
      "17772/17772 [==============================] - 42s 2ms/step - loss: 0.0064 - val_loss: 0.0063\n",
      "Epoch 71/100\n",
      "17772/17772 [==============================] - 42s 2ms/step - loss: 0.0064 - val_loss: 0.0063\n",
      "Epoch 72/100\n",
      "17772/17772 [==============================] - 48s 3ms/step - loss: 0.0064 - val_loss: 0.0063\n",
      "Epoch 73/100\n",
      "17772/17772 [==============================] - 45s 3ms/step - loss: 0.0064 - val_loss: 0.0063\n",
      "Epoch 74/100\n",
      "17772/17772 [==============================] - 44s 3ms/step - loss: 0.0064 - val_loss: 0.0063\n",
      "Epoch 75/100\n",
      "17772/17772 [==============================] - 44s 2ms/step - loss: 0.0064 - val_loss: 0.0063\n",
      "Epoch 76/100\n",
      "17772/17772 [==============================] - 44s 2ms/step - loss: 0.0064 - val_loss: 0.0063\n",
      "Epoch 77/100\n",
      "17772/17772 [==============================] - 44s 2ms/step - loss: 0.0064 - val_loss: 0.0064\n",
      "Epoch 78/100\n",
      "17772/17772 [==============================] - 44s 2ms/step - loss: 0.0064 - val_loss: 0.0063\n",
      "Epoch 79/100\n",
      "17772/17772 [==============================] - 44s 2ms/step - loss: 0.0064 - val_loss: 0.0063\n",
      "Epoch 80/100\n",
      "17772/17772 [==============================] - 44s 2ms/step - loss: 0.0064 - val_loss: 0.0063\n",
      "Epoch 81/100\n",
      "17772/17772 [==============================] - 44s 2ms/step - loss: 0.0064 - val_loss: 0.0063\n",
      "Epoch 82/100\n",
      "17772/17772 [==============================] - 44s 2ms/step - loss: 0.0064 - val_loss: 0.0063\n",
      "Epoch 83/100\n",
      "17772/17772 [==============================] - 44s 2ms/step - loss: 0.0064 - val_loss: 0.0063\n",
      "Epoch 84/100\n",
      "17772/17772 [==============================] - 44s 2ms/step - loss: 0.0064 - val_loss: 0.0063\n",
      "Epoch 85/100\n",
      "17772/17772 [==============================] - 44s 2ms/step - loss: 0.0064 - val_loss: 0.0063\n",
      "Epoch 86/100\n",
      "17772/17772 [==============================] - 44s 3ms/step - loss: 0.0064 - val_loss: 0.0063\n",
      "Epoch 87/100\n",
      "17772/17772 [==============================] - 43s 2ms/step - loss: 0.0064 - val_loss: 0.0064\n",
      "Epoch 88/100\n",
      "17772/17772 [==============================] - 42s 2ms/step - loss: 0.0064 - val_loss: 0.0063\n",
      "Epoch 89/100\n",
      "17772/17772 [==============================] - 42s 2ms/step - loss: 0.0064 - val_loss: 0.0063\n",
      "Epoch 90/100\n",
      "17772/17772 [==============================] - 42s 2ms/step - loss: 0.0064 - val_loss: 0.0063\n",
      "Epoch 91/100\n",
      "17772/17772 [==============================] - 42s 2ms/step - loss: 0.0064 - val_loss: 0.0063\n",
      "Epoch 92/100\n",
      "17772/17772 [==============================] - 42s 2ms/step - loss: 0.0064 - val_loss: 0.0063\n",
      "Epoch 93/100\n",
      "17772/17772 [==============================] - 47s 3ms/step - loss: 0.0064 - val_loss: 0.0063\n",
      "Epoch 94/100\n",
      "17772/17772 [==============================] - 47s 3ms/step - loss: 0.0064 - val_loss: 0.0063\n",
      "Epoch 95/100\n",
      "17772/17772 [==============================] - 47s 3ms/step - loss: 0.0064 - val_loss: 0.0063\n",
      "Epoch 96/100\n",
      "17772/17772 [==============================] - 47s 3ms/step - loss: 0.0064 - val_loss: 0.0063\n",
      "Epoch 97/100\n",
      "17772/17772 [==============================] - 47s 3ms/step - loss: 0.0064 - val_loss: 0.0063\n",
      "Epoch 98/100\n",
      "17772/17772 [==============================] - 47s 3ms/step - loss: 0.0064 - val_loss: 0.0063\n",
      "Epoch 99/100\n",
      "17772/17772 [==============================] - 47s 3ms/step - loss: 0.0064 - val_loss: 0.0063\n",
      "Epoch 100/100\n",
      "17772/17772 [==============================] - 47s 3ms/step - loss: 0.0063 - val_loss: 0.0063\n"
     ]
    }
   ],
   "source": [
    "history = model.fit(\n",
    "    X_train,\n",
    "    Y_train,\n",
    "    shuffle=False,\n",
    "    epochs=100,\n",
    "    batch_size=32,\n",
    "    validation_split=0.2,\n",
    "    callbacks=[\n",
    "        callbacks.ModelCheckpoint(\n",
    "            filepath = \".\\\\temp\\\\single_model_checkpoint.h5\",\n",
    "            save_best_only = True,\n",
    "        )\n",
    "    ],\n",
    "    verbose=1\n",
    ")"
   ]
  },
  {
   "cell_type": "markdown",
   "metadata": {},
   "source": [
    "#### Model Review"
   ]
  },
  {
   "cell_type": "code",
   "execution_count": 13,
   "metadata": {},
   "outputs": [
    {
     "data": {
      "text/plain": [
       "<matplotlib.legend.Legend at 0x19fca3daa10>"
      ]
     },
     "execution_count": 13,
     "metadata": {},
     "output_type": "execute_result"
    },
    {
     "data": {
      "image/png": "[encoded data removed]",
      "text/plain": [
       "<Figure size 432x288 with 1 Axes>"
      ]
     },
     "metadata": {
      "needs_background": "light"
     },
     "output_type": "display_data"
    }
   ],
   "source": [
    "plt.plot(history.history['loss'], label = 'training loss')\n",
    "plt.plot(history.history['val_loss'], label ='validation loss')\n",
    "plt.legend()"
   ]
  },
  {
   "cell_type": "code",
   "execution_count": 39,
   "metadata": {},
   "outputs": [
    {
     "name": "stdout",
     "output_type": "stream",
     "text": [
      "2246/2246 [==============================] - 2s 823us/step\n"
     ]
    },
    {
     "data": {
      "text/plain": [
       "[<matplotlib.lines.Line2D at 0x1a14d8ed150>]"
      ]
     },
     "execution_count": 39,
     "metadata": {},
     "output_type": "execute_result"
    },
    {
     "data": {
      "image/png": "[encoded data removed]",
      "text/plain": [
       "<Figure size 432x288 with 1 Axes>"
      ]
     },
     "metadata": {
      "needs_background": "light"
     },
     "output_type": "display_data"
    }
   ],
   "source": [
    "y_pred = model.predict(X_test)\n",
    "error = np.sqrt((Y_test - y_pred) ** 2)"
   ]
  },
  {
   "cell_type": "code",
   "execution_count": 42,
   "metadata": {},
   "outputs": [
    {
     "data": {
      "text/plain": [
       "[<matplotlib.lines.Line2D at 0x19fc7424fa0>]"
      ]
     },
     "execution_count": 42,
     "metadata": {},
     "output_type": "execute_result"
    },
    {
     "data": {
      "image/png": "[encoded data removed]",
      "text/plain": [
       "<Figure size 432x288 with 1 Axes>"
      ]
     },
     "metadata": {
      "needs_background": "light"
     },
     "output_type": "display_data"
    }
   ],
   "source": [
    "plt.plot(error[:,0])"
   ]
  },
  {
   "cell_type": "code",
   "execution_count": 40,
   "metadata": {},
   "outputs": [
    {
     "data": {
      "text/plain": [
       "[<matplotlib.lines.Line2D at 0x19fc7320430>]"
      ]
     },
     "execution_count": 40,
     "metadata": {},
     "output_type": "execute_result"
    },
    {
     "data": {
      "image/png": "[encoded data removed]",
      "text/plain": [
       "<Figure size 432x288 with 1 Axes>"
      ]
     },
     "metadata": {
      "needs_background": "light"
     },
     "output_type": "display_data"
    }
   ],
   "source": [
    "plt.plot(error[:,1])"
   ]
  },
  {
   "cell_type": "code",
   "execution_count": 41,
   "metadata": {},
   "outputs": [
    {
     "data": {
      "text/plain": [
       "[<matplotlib.lines.Line2D at 0x19fc7404520>]"
      ]
     },
     "execution_count": 41,
     "metadata": {},
     "output_type": "execute_result"
    },
    {
     "data": {
      "image/png": "[encoded data removed]",
      "text/plain": [
       "<Figure size 432x288 with 1 Axes>"
      ]
     },
     "metadata": {
      "needs_background": "light"
     },
     "output_type": "display_data"
    }
   ],
   "source": [
    "plt.plot(error[:,2])"
   ]
  },
  {
   "cell_type": "markdown",
   "metadata": {},
   "source": [
    "### Separate Models Approach"
   ]
  },
  {
   "cell_type": "markdown",
   "metadata": {},
   "source": [
    "#### Models Structure"
   ]
  },
  {
   "cell_type": "markdown",
   "metadata": {},
   "source": [
    "This approach will consist of three models, each will be a Sequential keras model with the following layers:\n",
    "\n",
    "* GRU layer (15 units)\n",
    "* Dropout of 20%\n",
    "* Dense layer with 1 outputs"
   ]
  },
  {
   "cell_type": "code",
   "execution_count": 15,
   "metadata": {},
   "outputs": [
    {
     "name": "stdout",
     "output_type": "stream",
     "text": [
      "Model: \"Pitch_Model\"\n",
      "_________________________________________________________________\n",
      " Layer (type)                Output Shape              Param #   \n",
      "=================================================================\n",
      " gru_1 (GRU)                 (None, 8)                 312       \n",
      "                                                                 \n",
      " dense_1 (Dense)             (None, 1)                 9         \n",
      "                                                                 \n",
      "=================================================================\n",
      "Total params: 321\n",
      "Trainable params: 321\n",
      "Non-trainable params: 0\n",
      "_________________________________________________________________\n"
     ]
    }
   ],
   "source": [
    "model_pitch = Sequential(name=\"Pitch_Model\")\n",
    "\n",
    "model_pitch.add(layers.GRU(\n",
    "    8,\n",
    "    activation = \"tanh\",\n",
    "    recurrent_activation = \"sigmoid\",\n",
    "    input_shape = (X_train.shape[1], X_train.shape[2])\n",
    "))\n",
    "\n",
    "model_pitch.add(layers.Dense(1))\n",
    "\n",
    "model_pitch.compile(loss='mean_squared_error', optimizer='adam')\n",
    "\n",
    "model_pitch.summary()"
   ]
  },
  {
   "cell_type": "code",
   "execution_count": 25,
   "metadata": {},
   "outputs": [
    {
     "name": "stdout",
     "output_type": "stream",
     "text": [
      "Model: \"Duration_Model\"\n",
      "_________________________________________________________________\n",
      " Layer (type)                Output Shape              Param #   \n",
      "=================================================================\n",
      " gru_6 (GRU)                 (None, 15)                900       \n",
      "                                                                 \n",
      " dropout_6 (Dropout)         (None, 15)                0         \n",
      "                                                                 \n",
      " dense_6 (Dense)             (None, 1)                 16        \n",
      "                                                                 \n",
      "=================================================================\n",
      "Total params: 916\n",
      "Trainable params: 916\n",
      "Non-trainable params: 0\n",
      "_________________________________________________________________\n"
     ]
    }
   ],
   "source": [
    "model_duration = Sequential(name=\"Duration_Model\")\n",
    "\n",
    "model_duration.add(layers.GRU(\n",
    "    15,\n",
    "    activation = \"tanh\",\n",
    "    recurrent_activation = \"sigmoid\",\n",
    "    input_shape = (X_train.shape[1], X_train.shape[2])\n",
    "))\n",
    "\n",
    "model_duration.add(layers.Dropout(rate=0.2))\n",
    "\n",
    "model_duration.add(layers.Dense(1))\n",
    "\n",
    "model_duration.compile(loss='mean_squared_error', optimizer='adam')\n",
    "\n",
    "model_duration.summary()"
   ]
  },
  {
   "cell_type": "code",
   "execution_count": 26,
   "metadata": {},
   "outputs": [
    {
     "name": "stdout",
     "output_type": "stream",
     "text": [
      "Model: \"Time_to_Next_Model\"\n",
      "_________________________________________________________________\n",
      " Layer (type)                Output Shape              Param #   \n",
      "=================================================================\n",
      " gru_7 (GRU)                 (None, 15)                900       \n",
      "                                                                 \n",
      " dropout_7 (Dropout)         (None, 15)                0         \n",
      "                                                                 \n",
      " dense_7 (Dense)             (None, 1)                 16        \n",
      "                                                                 \n",
      "=================================================================\n",
      "Total params: 916\n",
      "Trainable params: 916\n",
      "Non-trainable params: 0\n",
      "_________________________________________________________________\n"
     ]
    }
   ],
   "source": [
    "model_time2next = Sequential(name=\"Time_to_Next_Model\")\n",
    "\n",
    "model_time2next.add(layers.GRU(\n",
    "    15,\n",
    "    activation = \"tanh\",\n",
    "    recurrent_activation = \"sigmoid\",\n",
    "    input_shape = (X_train.shape[1], X_train.shape[2])\n",
    "))\n",
    "\n",
    "model_time2next.add(layers.Dropout(rate=0.2))\n",
    "\n",
    "model_time2next.add(layers.Dense(1))\n",
    "\n",
    "model_time2next.compile(loss='mean_squared_error', optimizer='adam')\n",
    "\n",
    "model_time2next.summary()"
   ]
  },
  {
   "cell_type": "markdown",
   "metadata": {},
   "source": [
    "#### Model Training"
   ]
  },
  {
   "cell_type": "code",
   "execution_count": 16,
   "metadata": {},
   "outputs": [
    {
     "name": "stdout",
     "output_type": "stream",
     "text": [
      "Epoch 1/100\n",
      "17772/17772 [==============================] - 63s 3ms/step - loss: 0.0152 - val_loss: 0.0167\n",
      "Epoch 2/100\n",
      "17772/17772 [==============================] - 80s 5ms/step - loss: 0.0139 - val_loss: 0.0158\n",
      "Epoch 3/100\n",
      "17772/17772 [==============================] - 80s 5ms/step - loss: 0.0134 - val_loss: 0.0157\n",
      "Epoch 4/100\n",
      "17772/17772 [==============================] - 80s 5ms/step - loss: 0.0130 - val_loss: 0.0156\n",
      "Epoch 5/100\n",
      "17772/17772 [==============================] - 3342s 188ms/step - loss: 0.0126 - val_loss: 0.0152\n",
      "Epoch 6/100\n",
      "17772/17772 [==============================] - 66s 4ms/step - loss: 0.0120 - val_loss: 0.0150\n",
      "Epoch 7/100\n",
      "17772/17772 [==============================] - 49s 3ms/step - loss: 0.0115 - val_loss: 0.0140\n",
      "Epoch 8/100\n",
      "17772/17772 [==============================] - 49s 3ms/step - loss: 0.0111 - val_loss: 0.0134\n",
      "Epoch 9/100\n",
      "17772/17772 [==============================] - 48s 3ms/step - loss: 0.0109 - val_loss: 0.0131\n",
      "Epoch 10/100\n",
      "17772/17772 [==============================] - 46s 3ms/step - loss: 0.0108 - val_loss: 0.0129\n",
      "Epoch 11/100\n",
      "17772/17772 [==============================] - 47s 3ms/step - loss: 0.0106 - val_loss: 0.0127\n",
      "Epoch 12/100\n",
      "17772/17772 [==============================] - 46s 3ms/step - loss: 0.0105 - val_loss: 0.0126\n",
      "Epoch 13/100\n",
      "17772/17772 [==============================] - 46s 3ms/step - loss: 0.0105 - val_loss: 0.0125\n",
      "Epoch 14/100\n",
      "17772/17772 [==============================] - 47s 3ms/step - loss: 0.0104 - val_loss: 0.0124\n",
      "Epoch 15/100\n",
      "17772/17772 [==============================] - 45s 3ms/step - loss: 0.0103 - val_loss: 0.0123\n",
      "Epoch 16/100\n",
      "17772/17772 [==============================] - 45s 3ms/step - loss: 0.0103 - val_loss: 0.0122\n",
      "Epoch 17/100\n",
      "17772/17772 [==============================] - 45s 3ms/step - loss: 0.0103 - val_loss: 0.0121\n",
      "Epoch 18/100\n",
      "17772/17772 [==============================] - 46s 3ms/step - loss: 0.0102 - val_loss: 0.0121\n",
      "Epoch 19/100\n",
      "17772/17772 [==============================] - 46s 3ms/step - loss: 0.0102 - val_loss: 0.0120\n",
      "Epoch 20/100\n",
      "17772/17772 [==============================] - 45s 3ms/step - loss: 0.0101 - val_loss: 0.0119\n",
      "Epoch 21/100\n",
      "17772/17772 [==============================] - 45s 3ms/step - loss: 0.0101 - val_loss: 0.0118\n",
      "Epoch 22/100\n",
      "17772/17772 [==============================] - 45s 3ms/step - loss: 0.0101 - val_loss: 0.0118\n",
      "Epoch 23/100\n",
      "17772/17772 [==============================] - 45s 3ms/step - loss: 0.0101 - val_loss: 0.0117\n",
      "Epoch 24/100\n",
      "17772/17772 [==============================] - 44s 2ms/step - loss: 0.0100 - val_loss: 0.0117\n",
      "Epoch 25/100\n",
      "17772/17772 [==============================] - 42s 2ms/step - loss: 0.0100 - val_loss: 0.0116\n",
      "Epoch 26/100\n",
      "17772/17772 [==============================] - 45s 3ms/step - loss: 0.0100 - val_loss: 0.0115\n",
      "Epoch 27/100\n",
      "17772/17772 [==============================] - 41s 2ms/step - loss: 0.0100 - val_loss: 0.0115\n",
      "Epoch 28/100\n",
      "17772/17772 [==============================] - 42s 2ms/step - loss: 0.0100 - val_loss: 0.0114\n",
      "Epoch 29/100\n",
      "17772/17772 [==============================] - 44s 2ms/step - loss: 0.0099 - val_loss: 0.0114\n",
      "Epoch 30/100\n",
      "17772/17772 [==============================] - 41s 2ms/step - loss: 0.0099 - val_loss: 0.0113\n",
      "Epoch 31/100\n",
      "17772/17772 [==============================] - 43s 2ms/step - loss: 0.0099 - val_loss: 0.0113\n",
      "Epoch 32/100\n",
      "17772/17772 [==============================] - 46s 3ms/step - loss: 0.0099 - val_loss: 0.0113\n",
      "Epoch 33/100\n",
      "17772/17772 [==============================] - 45s 3ms/step - loss: 0.0099 - val_loss: 0.0112\n",
      "Epoch 34/100\n",
      "17772/17772 [==============================] - 45s 3ms/step - loss: 0.0099 - val_loss: 0.0112\n",
      "Epoch 35/100\n",
      "17772/17772 [==============================] - 47s 3ms/step - loss: 0.0099 - val_loss: 0.0112\n",
      "Epoch 36/100\n",
      "17772/17772 [==============================] - 46s 3ms/step - loss: 0.0099 - val_loss: 0.0112\n",
      "Epoch 37/100\n",
      "17772/17772 [==============================] - 45s 3ms/step - loss: 0.0098 - val_loss: 0.0112\n",
      "Epoch 38/100\n",
      "17772/17772 [==============================] - 45s 3ms/step - loss: 0.0098 - val_loss: 0.0111\n",
      "Epoch 39/100\n",
      "17772/17772 [==============================] - 46s 3ms/step - loss: 0.0098 - val_loss: 0.0111\n",
      "Epoch 40/100\n",
      "17772/17772 [==============================] - 45s 3ms/step - loss: 0.0098 - val_loss: 0.0111\n",
      "Epoch 41/100\n",
      "17772/17772 [==============================] - 45s 3ms/step - loss: 0.0098 - val_loss: 0.0111\n",
      "Epoch 42/100\n",
      "17772/17772 [==============================] - 43s 2ms/step - loss: 0.0098 - val_loss: 0.0111\n",
      "Epoch 43/100\n",
      "17772/17772 [==============================] - 41s 2ms/step - loss: 0.0098 - val_loss: 0.0111\n",
      "Epoch 44/100\n",
      "17772/17772 [==============================] - 41s 2ms/step - loss: 0.0098 - val_loss: 0.0111\n",
      "Epoch 45/100\n",
      "17772/17772 [==============================] - 42s 2ms/step - loss: 0.0098 - val_loss: 0.0111\n",
      "Epoch 46/100\n",
      "17772/17772 [==============================] - 40s 2ms/step - loss: 0.0098 - val_loss: 0.0111\n",
      "Epoch 47/100\n",
      "17772/17772 [==============================] - 41s 2ms/step - loss: 0.0098 - val_loss: 0.0111\n",
      "Epoch 48/100\n",
      "17772/17772 [==============================] - 40s 2ms/step - loss: 0.0098 - val_loss: 0.0111\n",
      "Epoch 49/100\n",
      "17772/17772 [==============================] - 41s 2ms/step - loss: 0.0098 - val_loss: 0.0111\n",
      "Epoch 50/100\n",
      "17772/17772 [==============================] - 41s 2ms/step - loss: 0.0098 - val_loss: 0.0111\n",
      "Epoch 51/100\n",
      "17772/17772 [==============================] - 40s 2ms/step - loss: 0.0098 - val_loss: 0.0111\n",
      "Epoch 52/100\n",
      "17772/17772 [==============================] - 40s 2ms/step - loss: 0.0098 - val_loss: 0.0111\n",
      "Epoch 53/100\n",
      "17772/17772 [==============================] - 40s 2ms/step - loss: 0.0098 - val_loss: 0.0110\n",
      "Epoch 54/100\n",
      "17772/17772 [==============================] - 40s 2ms/step - loss: 0.0098 - val_loss: 0.0110\n",
      "Epoch 55/100\n",
      "17772/17772 [==============================] - 40s 2ms/step - loss: 0.0098 - val_loss: 0.0110\n",
      "Epoch 56/100\n",
      "17772/17772 [==============================] - 40s 2ms/step - loss: 0.0097 - val_loss: 0.0110\n",
      "Epoch 57/100\n",
      "17772/17772 [==============================] - 41s 2ms/step - loss: 0.0097 - val_loss: 0.0110\n",
      "Epoch 58/100\n",
      "17772/17772 [==============================] - 40s 2ms/step - loss: 0.0097 - val_loss: 0.0110\n",
      "Epoch 59/100\n",
      "17772/17772 [==============================] - 41s 2ms/step - loss: 0.0097 - val_loss: 0.0110\n",
      "Epoch 60/100\n",
      "17772/17772 [==============================] - 41s 2ms/step - loss: 0.0097 - val_loss: 0.0110\n",
      "Epoch 61/100\n",
      "17772/17772 [==============================] - 40s 2ms/step - loss: 0.0097 - val_loss: 0.0110\n",
      "Epoch 62/100\n",
      "17772/17772 [==============================] - 41s 2ms/step - loss: 0.0097 - val_loss: 0.0110\n",
      "Epoch 63/100\n",
      "17772/17772 [==============================] - 41s 2ms/step - loss: 0.0097 - val_loss: 0.0110\n",
      "Epoch 64/100\n",
      "17772/17772 [==============================] - 41s 2ms/step - loss: 0.0097 - val_loss: 0.0110\n",
      "Epoch 65/100\n",
      "17772/17772 [==============================] - 40s 2ms/step - loss: 0.0097 - val_loss: 0.0110\n",
      "Epoch 66/100\n",
      "17772/17772 [==============================] - 40s 2ms/step - loss: 0.0097 - val_loss: 0.0111\n",
      "Epoch 67/100\n",
      "17772/17772 [==============================] - 41s 2ms/step - loss: 0.0097 - val_loss: 0.0111\n",
      "Epoch 68/100\n",
      "17772/17772 [==============================] - 41s 2ms/step - loss: 0.0097 - val_loss: 0.0111\n",
      "Epoch 69/100\n",
      "17772/17772 [==============================] - 41s 2ms/step - loss: 0.0097 - val_loss: 0.0111\n",
      "Epoch 70/100\n",
      "17772/17772 [==============================] - 41s 2ms/step - loss: 0.0097 - val_loss: 0.0111\n",
      "Epoch 71/100\n",
      "17772/17772 [==============================] - 41s 2ms/step - loss: 0.0097 - val_loss: 0.0111\n",
      "Epoch 72/100\n",
      "17772/17772 [==============================] - 40s 2ms/step - loss: 0.0097 - val_loss: 0.0111\n",
      "Epoch 73/100\n",
      "17772/17772 [==============================] - 44s 2ms/step - loss: 0.0097 - val_loss: 0.0111\n",
      "Epoch 74/100\n",
      "17772/17772 [==============================] - 45s 3ms/step - loss: 0.0097 - val_loss: 0.0111\n",
      "Epoch 75/100\n",
      "17772/17772 [==============================] - 42s 2ms/step - loss: 0.0097 - val_loss: 0.0111\n",
      "Epoch 76/100\n",
      "17772/17772 [==============================] - 40s 2ms/step - loss: 0.0097 - val_loss: 0.0111\n",
      "Epoch 77/100\n",
      "17772/17772 [==============================] - 41s 2ms/step - loss: 0.0097 - val_loss: 0.0111\n",
      "Epoch 78/100\n",
      "17772/17772 [==============================] - 41s 2ms/step - loss: 0.0097 - val_loss: 0.0111\n",
      "Epoch 79/100\n",
      "17772/17772 [==============================] - 42s 2ms/step - loss: 0.0097 - val_loss: 0.0111\n",
      "Epoch 80/100\n",
      "17772/17772 [==============================] - 45s 3ms/step - loss: 0.0097 - val_loss: 0.0111\n",
      "Epoch 81/100\n",
      "17772/17772 [==============================] - 44s 2ms/step - loss: 0.0097 - val_loss: 0.0111\n",
      "Epoch 82/100\n",
      "17772/17772 [==============================] - 46s 3ms/step - loss: 0.0097 - val_loss: 0.0111\n",
      "Epoch 83/100\n",
      "17772/17772 [==============================] - 45s 3ms/step - loss: 0.0097 - val_loss: 0.0111\n",
      "Epoch 84/100\n",
      "17772/17772 [==============================] - 42s 2ms/step - loss: 0.0097 - val_loss: 0.0111\n",
      "Epoch 85/100\n",
      "17772/17772 [==============================] - 42s 2ms/step - loss: 0.0097 - val_loss: 0.0111\n",
      "Epoch 86/100\n",
      "17772/17772 [==============================] - 44s 3ms/step - loss: 0.0097 - val_loss: 0.0111\n",
      "Epoch 87/100\n",
      "17772/17772 [==============================] - 41s 2ms/step - loss: 0.0097 - val_loss: 0.0111\n",
      "Epoch 88/100\n",
      "17772/17772 [==============================] - 42s 2ms/step - loss: 0.0096 - val_loss: 0.0111\n",
      "Epoch 89/100\n",
      "17772/17772 [==============================] - 42s 2ms/step - loss: 0.0096 - val_loss: 0.0111\n",
      "Epoch 90/100\n",
      "17772/17772 [==============================] - 41s 2ms/step - loss: 0.0096 - val_loss: 0.0110\n",
      "Epoch 91/100\n",
      "17772/17772 [==============================] - 41s 2ms/step - loss: 0.0096 - val_loss: 0.0110\n",
      "Epoch 92/100\n",
      "17772/17772 [==============================] - 41s 2ms/step - loss: 0.0096 - val_loss: 0.0110\n",
      "Epoch 93/100\n",
      "17772/17772 [==============================] - 43s 2ms/step - loss: 0.0096 - val_loss: 0.0110\n",
      "Epoch 94/100\n",
      "17772/17772 [==============================] - 43s 2ms/step - loss: 0.0096 - val_loss: 0.0110\n",
      "Epoch 95/100\n",
      "17772/17772 [==============================] - 41s 2ms/step - loss: 0.0096 - val_loss: 0.0110\n",
      "Epoch 96/100\n",
      "17772/17772 [==============================] - 43s 2ms/step - loss: 0.0096 - val_loss: 0.0110\n",
      "Epoch 97/100\n",
      "17772/17772 [==============================] - 41s 2ms/step - loss: 0.0096 - val_loss: 0.0110\n",
      "Epoch 98/100\n",
      "17772/17772 [==============================] - 46s 3ms/step - loss: 0.0096 - val_loss: 0.0110\n",
      "Epoch 99/100\n",
      "17772/17772 [==============================] - 45s 3ms/step - loss: 0.0096 - val_loss: 0.0110\n",
      "Epoch 100/100\n",
      "17772/17772 [==============================] - 45s 3ms/step - loss: 0.0096 - val_loss: 0.0110\n"
     ]
    }
   ],
   "source": [
    "history_pitch = model_pitch.fit(\n",
    "    X_train,\n",
    "    Y_train[:, 0],\n",
    "    shuffle=False,\n",
    "    epochs=100,\n",
    "    batch_size=32,\n",
    "    validation_split=0.2,\n",
    "    callbacks=[\n",
    "        callbacks.ModelCheckpoint(\n",
    "            filepath = \".\\\\temp\\\\pitch_model_checkpoint.h5\",\n",
    "            save_best_only = True,\n",
    "        )\n",
    "    ],\n",
    "    verbose=1\n",
    ")"
   ]
  },
  {
   "cell_type": "markdown",
   "metadata": {},
   "source": [
    "#### Model Review"
   ]
  },
  {
   "cell_type": "code",
   "execution_count": 14,
   "metadata": {},
   "outputs": [
    {
     "data": {
      "text/plain": [
       "<matplotlib.legend.Legend at 0x22620ff4cd0>"
      ]
     },
     "execution_count": 14,
     "metadata": {},
     "output_type": "execute_result"
    },
    {
     "data": {
      "image/png": "[encoded data removed]",
      "text/plain": [
       "<Figure size 432x288 with 1 Axes>"
      ]
     },
     "metadata": {
      "needs_background": "light"
     },
     "output_type": "display_data"
    }
   ],
   "source": [
    "plt.plot(history_pitch.history['loss'], label = 'training loss')\n",
    "plt.plot(history_pitch.history['val_loss'], label ='validation loss')\n",
    "plt.legend()"
   ]
  }
 ],
 "metadata": {
  "kernelspec": {
   "display_name": "Python 3.10.5 ('venv': venv)",
   "language": "python",
   "name": "python3"
  },
  "language_info": {
   "codemirror_mode": {
    "name": "ipython",
    "version": 3
   },
   "file_extension": ".py",
   "mimetype": "text/x-python",
   "name": "python",
   "nbconvert_exporter": "python",
   "pygments_lexer": "ipython3",
   "version": "3.10.5"
  },
  "orig_nbformat": 4,
  "vscode": {
   "interpreter": {
    "hash": "9557642ed31844b903319b561864a8ef0da5c7b931996e0f6ddf8b44d6bc5235"
   }
  }
 },
 "nbformat": 4,
 "nbformat_minor": 2
}
