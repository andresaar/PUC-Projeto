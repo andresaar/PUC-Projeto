{
 "cells": [
  {
   "cell_type": "markdown",
   "metadata": {},
   "source": [
    "# MIDI to RNN Input data treatment\n",
    "\n",
    "This script was implemented to transform the pre-treated midi data to value arrays that can be served as input for the RNN training."
   ]
  },
  {
   "cell_type": "code",
   "execution_count": 1,
   "metadata": {},
   "outputs": [],
   "source": [
    "import pretty_midi\n",
    "import numpy as np\n",
    "import pandas as pd\n",
    "import glob\n",
    "import json"
   ]
  },
  {
   "cell_type": "markdown",
   "metadata": {},
   "source": [
    "## MIDI data attributes analysis"
   ]
  },
  {
   "cell_type": "code",
   "execution_count": 2,
   "metadata": {},
   "outputs": [
    {
     "name": "stdout",
     "output_type": "stream",
     "text": [
      "Acoustic Grand Piano\n",
      "Note(start=0.000000, end=0.136364, pitch=76, velocity=60)\n"
     ]
    }
   ],
   "source": [
    "midi_files = glob.glob(r\"..\\midi\\treated_midi\\*\")\n",
    "midi_file = pretty_midi.PrettyMIDI(midi_files[0])\n",
    "\n",
    "instrument = midi_file.instruments[0]\n",
    "print(pretty_midi.program_to_instrument_name(instrument.program))\n",
    "\n",
    "note = instrument.notes[0]\n",
    "print(note)"
   ]
  },
  {
   "cell_type": "markdown",
   "metadata": {},
   "source": [
    "Looking at the previous snippet, the Note class has four attributes:\n",
    "* **start**: time when the note starts (in seconds)\n",
    "* **end**: time when the note ends (in seconds)\n",
    "* **pitch**: pitch of the note (can be associated with the piano key)\n",
    "* **velocity**: information on the volume of the note - during pre-treatment all notes were set with velocity of 60.\n",
    "\n",
    "We can disconsider the velocity information, as it has no relevant information for the structure of the song."
   ]
  },
  {
   "cell_type": "markdown",
   "metadata": {},
   "source": [
    "Firstly, the data can be moved to an dictionary of dataframes, in which every single dataframe corresponds to a song."
   ]
  },
  {
   "cell_type": "code",
   "execution_count": 3,
   "metadata": {},
   "outputs": [
    {
     "name": "stdout",
     "output_type": "stream",
     "text": [
      "160_EIGHTMEASURE_EXERCISES_NO_1\n",
      "----------------------------------------\n",
      "         start        end  pitch\n",
      "0     0.000000   0.136364     76\n",
      "1     0.000000   0.545455     60\n",
      "2     0.000000   0.545455     67\n",
      "3     0.136364   0.272727     79\n",
      "4     0.272727   0.409091     77\n",
      "..         ...        ...    ...\n",
      "147  15.818182  15.954545     72\n",
      "148  15.954545  16.090909     76\n",
      "149  16.090909  16.227273     79\n",
      "150  16.227273  16.363636     84\n",
      "151  16.363636  16.636364     72\n",
      "\n",
      "[152 rows x 3 columns]\n"
     ]
    }
   ],
   "source": [
    "data_dict = {}\n",
    "for midi_file in midi_files:\n",
    "    midi_data = pretty_midi.PrettyMIDI(midi_file)\n",
    "    song_dict = {\n",
    "        \"start\": [],\n",
    "        \"end\": [],\n",
    "        \"pitch\": [],\n",
    "    }\n",
    "    for note in midi_data.instruments[0].notes:\n",
    "        song_dict[\"start\"].append(note.start)\n",
    "        song_dict[\"end\"].append(note.end)\n",
    "        song_dict[\"pitch\"].append(note.pitch)\n",
    "    data_dict[midi_file.split(\"\\\\\")[-1].split(\".\")[0]] = pd.DataFrame(song_dict).sort_values(by=['start', 'end'], ignore_index=True)\n",
    "\n",
    "dict_key = list(data_dict.keys())[0]\n",
    "print(f'{dict_key}\\n{\"-\"*40}\\n{data_dict[dict_key]}')"
   ]
  },
  {
   "cell_type": "markdown",
   "metadata": {},
   "source": [
    "The informations of 'start' and 'end' of when the note is active can be changed to the duration and how \"far\" the next note is, to be a metric that is more uniform in the set."
   ]
  },
  {
   "cell_type": "code",
   "execution_count": 4,
   "metadata": {},
   "outputs": [
    {
     "name": "stdout",
     "output_type": "stream",
     "text": [
      "160_EIGHTMEASURE_EXERCISES_NO_1\n",
      "----------------------------------------\n",
      "         start        end  pitch  duration  time_to_next\n",
      "0     0.000000   0.136364     76  0.136364      0.000000\n",
      "1     0.000000   0.545455     60  0.545455      0.000000\n",
      "2     0.000000   0.545455     67  0.545455      0.136364\n",
      "3     0.136364   0.272727     79  0.136364      0.136364\n",
      "4     0.272727   0.409091     77  0.136364      0.136364\n",
      "..         ...        ...    ...       ...           ...\n",
      "147  15.818182  15.954545     72  0.136364      0.136364\n",
      "148  15.954545  16.090909     76  0.136364      0.136364\n",
      "149  16.090909  16.227273     79  0.136364      0.136364\n",
      "150  16.227273  16.363636     84  0.136364      0.136364\n",
      "151  16.363636  16.636364     72  0.272727      0.000000\n",
      "\n",
      "[152 rows x 5 columns]\n"
     ]
    }
   ],
   "source": [
    "for song in data_dict.values():\n",
    "    song['duration'] = song['end'] - song['start']\n",
    "\n",
    "    time_to_next = []\n",
    "    for note_idx in range(song.shape[0]):\n",
    "        if note_idx == (song.shape[0]-1):\n",
    "            value = 0\n",
    "        else:\n",
    "            value = song.at[note_idx+1, 'start'] - song.at[note_idx, 'start']\n",
    "        time_to_next.append(value)\n",
    "    song['time_to_next'] = time_to_next\n",
    "\n",
    "dict_key = list(data_dict.keys())[0]\n",
    "print(f'{dict_key}\\n{\"-\"*40}\\n{data_dict[dict_key]}')"
   ]
  },
  {
   "cell_type": "markdown",
   "metadata": {},
   "source": [
    "## Metrics before treatment"
   ]
  },
  {
   "cell_type": "code",
   "execution_count": 5,
   "metadata": {},
   "outputs": [
    {
     "name": "stdout",
     "output_type": "stream",
     "text": [
      "Number of songs: 702\n",
      "\n"
     ]
    }
   ],
   "source": [
    "print(f\"Number of songs: {len(data_dict.keys())}\\n\")"
   ]
  },
  {
   "cell_type": "code",
   "execution_count": 6,
   "metadata": {},
   "outputs": [
    {
     "name": "stdout",
     "output_type": "stream",
     "text": [
      "About number of notes per song:\n",
      "count      702.000000\n",
      "mean      1135.850427\n",
      "std       1299.040192\n",
      "min         55.000000\n",
      "25%        372.250000\n",
      "50%        667.500000\n",
      "75%       1397.500000\n",
      "max      10503.000000\n",
      "dtype: float64\n"
     ]
    },
    {
     "data": {
      "text/plain": [
       "<AxesSubplot:title={'center':'Notes per track'}>"
      ]
     },
     "execution_count": 6,
     "metadata": {},
     "output_type": "execute_result"
    },
    {
     "data": {
      "image/png": "[encoded data removed]",
      "text/plain": [
       "<Figure size 432x288 with 1 Axes>"
      ]
     },
     "metadata": {
      "needs_background": "light"
     },
     "output_type": "display_data"
    }
   ],
   "source": [
    "\n",
    "number_of_notes_per_song = pd.Series([df.shape[0] for df in data_dict.values()])\n",
    "print(\"About number of notes per song:\")\n",
    "print(number_of_notes_per_song.describe())\n",
    "number_of_notes_per_song.plot.box(title='Notes per track')"
   ]
  },
  {
   "cell_type": "code",
   "execution_count": 7,
   "metadata": {},
   "outputs": [
    {
     "name": "stdout",
     "output_type": "stream",
     "text": [
      "\n",
      "About note duration (in seconds):\n",
      "count    797367.000000\n",
      "mean          0.415639\n",
      "std           0.475598\n",
      "min           0.002273\n",
      "25%           0.168182\n",
      "50%           0.250000\n",
      "75%           0.500000\n",
      "max          32.000000\n",
      "dtype: float64\n"
     ]
    },
    {
     "data": {
      "text/plain": [
       "<AxesSubplot:title={'center':'Note duration'}>"
      ]
     },
     "execution_count": 7,
     "metadata": {},
     "output_type": "execute_result"
    },
    {
     "data": {
      "image/png": "[encoded data removed]",
      "text/plain": [
       "<Figure size 432x288 with 1 Axes>"
      ]
     },
     "metadata": {
      "needs_background": "light"
     },
     "output_type": "display_data"
    }
   ],
   "source": [
    "\n",
    "note_duration = pd.Series(dtype=\"float64\")\n",
    "for song in data_dict.values():\n",
    "    note_duration = pd.concat([note_duration, song['duration']])\n",
    "print(\"\\nAbout note duration (in seconds):\")\n",
    "print(note_duration.describe())\n",
    "note_duration.plot.box(title='Note duration')"
   ]
  },
  {
   "cell_type": "code",
   "execution_count": 8,
   "metadata": {},
   "outputs": [
    {
     "name": "stdout",
     "output_type": "stream",
     "text": [
      "\n",
      "About time to next note (in seconds):\n",
      "count    797367.000000\n",
      "mean          0.130528\n",
      "std           0.235267\n",
      "min           0.000000\n",
      "25%           0.000000\n",
      "50%           0.000000\n",
      "75%           0.206818\n",
      "max          41.022727\n",
      "dtype: float64\n"
     ]
    },
    {
     "data": {
      "text/plain": [
       "<AxesSubplot:title={'center':'Time to Next'}>"
      ]
     },
     "execution_count": 8,
     "metadata": {},
     "output_type": "execute_result"
    },
    {
     "data": {
      "image/png": "[encoded data removed]",
      "text/plain": [
       "<Figure size 432x288 with 1 Axes>"
      ]
     },
     "metadata": {
      "needs_background": "light"
     },
     "output_type": "display_data"
    }
   ],
   "source": [
    "time_to_next = pd.Series(dtype=\"float64\")\n",
    "for song in data_dict.values():\n",
    "    time_to_next = pd.concat([time_to_next, song['time_to_next']])\n",
    "print(\"\\nAbout time to next note (in seconds):\")\n",
    "print(time_to_next.describe())\n",
    "time_to_next.plot.box(title='Time to Next')"
   ]
  },
  {
   "cell_type": "code",
   "execution_count": 9,
   "metadata": {},
   "outputs": [
    {
     "name": "stdout",
     "output_type": "stream",
     "text": [
      "\n",
      "About note pitch:\n",
      "count    797367.000000\n",
      "mean         63.200359\n",
      "std          12.086736\n",
      "min          17.000000\n",
      "25%          55.000000\n",
      "50%          63.000000\n",
      "75%          72.000000\n",
      "max         105.000000\n",
      "dtype: float64\n"
     ]
    },
    {
     "data": {
      "text/plain": [
       "<AxesSubplot:title={'center':'Pitch'}>"
      ]
     },
     "execution_count": 9,
     "metadata": {},
     "output_type": "execute_result"
    },
    {
     "data": {
      "image/png": "[encoded data removed]",
      "text/plain": [
       "<Figure size 432x288 with 1 Axes>"
      ]
     },
     "metadata": {
      "needs_background": "light"
     },
     "output_type": "display_data"
    }
   ],
   "source": [
    "pitch_stats = pd.Series(dtype=\"float64\")\n",
    "for song in data_dict.values():\n",
    "    pitch_stats = pd.concat([pitch_stats, song['pitch']])\n",
    "print(\"\\nAbout note pitch:\")\n",
    "print(pitch_stats.describe())\n",
    "pitch_stats.plot.box(title='Pitch')"
   ]
  },
  {
   "cell_type": "markdown",
   "metadata": {},
   "source": [
    "## Data Treatment"
   ]
  },
  {
   "cell_type": "markdown",
   "metadata": {},
   "source": [
    "### Pitch treatment"
   ]
  },
  {
   "cell_type": "markdown",
   "metadata": {},
   "source": [
    "As seen in previous snippet, the pitch of the notes vary from 17 to 105 in value, which can be translated from 21.83 Hz to 3520 Hz.\n",
    "In a regular piano, the note of 21.83Hz is not achievable. The piano notes only start from 27.50Hz, which is the note A0, in MIDI pitch value of 21.\n",
    "Having this in mind we can remove all notes under the pitch value of 21.\n",
    "\n",
    "The max pitch value of 105 (or A7, 3520Hz) is valid for piano, so we don't need to trim in the high-pitch side."
   ]
  },
  {
   "cell_type": "code",
   "execution_count": 10,
   "metadata": {},
   "outputs": [
    {
     "name": "stdout",
     "output_type": "stream",
     "text": [
      "Removed 6 notes.\n",
      "Pitch\n",
      "Min: 21\tMax: 105\n"
     ]
    }
   ],
   "source": [
    "removed_notes = 0\n",
    "for song in data_dict.values():\n",
    "    removed_notes += song[song['pitch'] < 21].shape[0]\n",
    "    song.drop(song[song['pitch'] < 21].index, inplace=True)\n",
    "\n",
    "min_pitch, max_pitch = np.inf , 0\n",
    "\n",
    "for song in data_dict.values():\n",
    "    min_pitch = min(min_pitch, song['pitch'].min())\n",
    "    max_pitch = max(max_pitch, song['pitch'].max())\n",
    "\n",
    "print(f'Removed {removed_notes} notes.\\nPitch\\nMin: {min_pitch}\\tMax: {max_pitch}')\n",
    "    "
   ]
  },
  {
   "cell_type": "markdown",
   "metadata": {},
   "source": [
    "After removing invalid pitch values, the values can be normalized between the min and max values."
   ]
  },
  {
   "cell_type": "code",
   "execution_count": 11,
   "metadata": {},
   "outputs": [],
   "source": [
    "def normalizePitch(og_pitch):\n",
    "    return (og_pitch - 21) / (105 - 21)\n",
    "\n",
    "def originalPitch(normalized_pitch):\n",
    "    return normalized_pitch * (105 - 21) + 21\n",
    "\n",
    "for song in data_dict.values():\n",
    "    song['pitch'] = normalizePitch(song['pitch'])"
   ]
  },
  {
   "cell_type": "code",
   "execution_count": 12,
   "metadata": {},
   "outputs": [
    {
     "name": "stdout",
     "output_type": "stream",
     "text": [
      "160_EIGHTMEASURE_EXERCISES_NO_1\n",
      "----------------------------------------\n",
      "         start        end     pitch  duration  time_to_next\n",
      "0     0.000000   0.136364  0.654762  0.136364      0.000000\n",
      "1     0.000000   0.545455  0.464286  0.545455      0.000000\n",
      "2     0.000000   0.545455  0.547619  0.545455      0.136364\n",
      "3     0.136364   0.272727  0.690476  0.136364      0.136364\n",
      "4     0.272727   0.409091  0.666667  0.136364      0.136364\n",
      "..         ...        ...       ...       ...           ...\n",
      "147  15.818182  15.954545  0.607143  0.136364      0.136364\n",
      "148  15.954545  16.090909  0.654762  0.136364      0.136364\n",
      "149  16.090909  16.227273  0.690476  0.136364      0.136364\n",
      "150  16.227273  16.363636  0.750000  0.136364      0.136364\n",
      "151  16.363636  16.636364  0.607143  0.272727      0.000000\n",
      "\n",
      "[152 rows x 5 columns]\n"
     ]
    }
   ],
   "source": [
    "dict_key = list(data_dict.keys())[0]\n",
    "print(f'{dict_key}\\n{\"-\"*40}\\n{data_dict[dict_key]}')"
   ]
  },
  {
   "cell_type": "markdown",
   "metadata": {},
   "source": [
    "### Note duration\n",
    "\n",
    "As some of the notes stay on for far more than most of the other notes, these can be trimmed to have a more uniform selection of notes."
   ]
  },
  {
   "cell_type": "code",
   "execution_count": 13,
   "metadata": {},
   "outputs": [
    {
     "name": "stdout",
     "output_type": "stream",
     "text": [
      "Duration trimming:\n",
      "Max: 7.00s\tMin: 0.07 s\n",
      "Removed 7450 notes\n"
     ]
    }
   ],
   "source": [
    "max_duration = 7 #arbitrarily chosen 5s as max duration\n",
    "min_duration = note_duration.quantile(.01)\n",
    "print(f\"Duration trimming:\\nMax: {max_duration:.2f}s\\tMin: {min_duration:.2f} s\")\n",
    "\n",
    "removed_notes = 0\n",
    "for song in data_dict.values():\n",
    "    removed_notes += song[song['duration'] < min_duration].shape[0] + song[song['duration'] > max_duration].shape[0]\n",
    "    song.drop(song[song['duration'] < min_duration].index, inplace=True)\n",
    "    song.drop(song[song['duration'] > max_duration].index, inplace=True)\n",
    "\n",
    "note_duration = pd.Series(dtype=\"float64\")\n",
    "for song in data_dict.values():\n",
    "    note_duration = pd.concat([note_duration, song['duration']])\n",
    "print(f\"Removed {removed_notes} notes\")"
   ]
  },
  {
   "cell_type": "markdown",
   "metadata": {},
   "source": [
    "## Distance between notes\n",
    "\n",
    "As seen in the metrics, there are some big gaps between one note and another, first we can check in which songs and at which timemark they happen."
   ]
  },
  {
   "cell_type": "code",
   "execution_count": 14,
   "metadata": {},
   "outputs": [
    {
     "name": "stdout",
     "output_type": "stream",
     "text": [
      "BRAHMS_HORN_TRIO: 20.83s at 15:51s\n",
      "BRAHMS_HORN_TRIO: 11.67s at 21:27s\n",
      "DER_HIRT_AUF_DEM_FELSEN: 18.52s at 8:57s\n",
      "DOUMKA: 10.00s at 7:46s\n",
      "NACHT_UND_TRUME: 18.00s at 2:06s\n",
      "NHE_DES_GELIEBTEN: 10.80s at 2:27s\n",
      "PIANO_CONCERTO_NO_3_IN_C_MINOR_1ST_MOVEMENT_ALLEGRO_CON_BRIO: 14.32s at 5:10s\n",
      "PIANO_CONCERTO_NO_3_IN_C_MINOR_1ST_MOVEMENT_ALLEGRO_CON_BRIO: 41.02s at 6:50s\n",
      "PIANO_CONCERTO_NO_3_IN_C_MINOR_1ST_MOVEMENT_ALLEGRO_CON_BRIO: 16.59s at 9:20s\n",
      "PIANO_CONCERTO_NO_3_IN_C_MINOR_1ST_MOVEMENT_ALLEGRO_CON_BRIO: 14.32s at 10:30s\n",
      "PIANO_CONCERTO_NO_3_IN_C_MINOR_1ST_MOVEMENT_ALLEGRO_CON_BRIO: 24.55s at 12:10s\n",
      "PIANO_TRIO_OPUS_11_3RD_MOVEMENT: 28.77s at 0:52s\n",
      "ROMANCE: 11.00s at 2:43s\n",
      "ROMANCE: 9.50s at 2:55s\n",
      "RVERIE: 10.91s at 2:38s\n"
     ]
    }
   ],
   "source": [
    "\n",
    "for song_name, song_data in data_dict.items():\n",
    "    for _, note in song_data.iterrows():\n",
    "        if note['time_to_next'] > 9:\n",
    "            print(f\"{song_name}: {note.time_to_next:.2f}s at {int(note.start//60)}:{int(note.start)%60:02d}s\")\n"
   ]
  },
  {
   "cell_type": "markdown",
   "metadata": {},
   "source": [
    "Listening to some of the shown songs, these gaps seem to mean a new \"movement\" in the song, that may be considered a different track. So to avoid these big gaps between songs, the songs can be splitted where the gap occurs."
   ]
  },
  {
   "cell_type": "code",
   "execution_count": 15,
   "metadata": {},
   "outputs": [
    {
     "name": "stdout",
     "output_type": "stream",
     "text": [
      "Removed BRAHMS_HORN_TRIO from data dictionary:\n",
      "\tNew subtrack BRAHMS_HORN_TRIO_SBTRK1 added.\n",
      "\tNew subtrack BRAHMS_HORN_TRIO_SBTRK2 added.\n",
      "\tNew subtrack BRAHMS_HORN_TRIO_SBTRK3 added.\n",
      "\n",
      "Removed DER_HIRT_AUF_DEM_FELSEN from data dictionary:\n",
      "\tNew subtrack DER_HIRT_AUF_DEM_FELSEN_SBTRK1 added.\n",
      "\tNew subtrack DER_HIRT_AUF_DEM_FELSEN_SBTRK2 added.\n",
      "\n",
      "Removed DOUMKA from data dictionary:\n",
      "\tNew subtrack DOUMKA_SBTRK1 added.\n",
      "\tNew subtrack DOUMKA_SBTRK2 added.\n",
      "\n",
      "Removed NACHT_UND_TRUME from data dictionary:\n",
      "\tNew subtrack NACHT_UND_TRUME_SBTRK1 added.\n",
      "\tNew subtrack NACHT_UND_TRUME_SBTRK2 added.\n",
      "\n",
      "Removed NHE_DES_GELIEBTEN from data dictionary:\n",
      "\tNew subtrack NHE_DES_GELIEBTEN_SBTRK1 added.\n",
      "\tNew subtrack NHE_DES_GELIEBTEN_SBTRK2 added.\n",
      "\n",
      "Removed PIANO_CONCERTO_NO_3_IN_C_MINOR_1ST_MOVEMENT_ALLEGRO_CON_BRIO from data dictionary:\n",
      "\tNew subtrack PIANO_CONCERTO_NO_3_IN_C_MINOR_1ST_MOVEMENT_ALLEGRO_CON_BRIO_SBTRK1 added.\n",
      "\tNew subtrack PIANO_CONCERTO_NO_3_IN_C_MINOR_1ST_MOVEMENT_ALLEGRO_CON_BRIO_SBTRK2 added.\n",
      "\tNew subtrack PIANO_CONCERTO_NO_3_IN_C_MINOR_1ST_MOVEMENT_ALLEGRO_CON_BRIO_SBTRK3 added.\n",
      "\tNew subtrack PIANO_CONCERTO_NO_3_IN_C_MINOR_1ST_MOVEMENT_ALLEGRO_CON_BRIO_SBTRK4 added.\n",
      "\tNew subtrack PIANO_CONCERTO_NO_3_IN_C_MINOR_1ST_MOVEMENT_ALLEGRO_CON_BRIO_SBTRK5 added.\n",
      "\tNew subtrack PIANO_CONCERTO_NO_3_IN_C_MINOR_1ST_MOVEMENT_ALLEGRO_CON_BRIO_SBTRK6 added.\n",
      "\n",
      "Removed PIANO_TRIO_OPUS_11_3RD_MOVEMENT from data dictionary:\n",
      "\tNew subtrack PIANO_TRIO_OPUS_11_3RD_MOVEMENT_SBTRK1 added.\n",
      "\tNew subtrack PIANO_TRIO_OPUS_11_3RD_MOVEMENT_SBTRK2 added.\n",
      "\n",
      "Removed ROMANCE from data dictionary:\n",
      "\tNew subtrack ROMANCE_SBTRK1 added.\n",
      "\tNew subtrack ROMANCE_SBTRK2 added.\n",
      "\tNew subtrack ROMANCE_SBTRK3 added.\n",
      "\n",
      "Removed RVERIE from data dictionary:\n",
      "\tNew subtrack RVERIE_SBTRK1 added.\n",
      "\tNew subtrack RVERIE_SBTRK2 added.\n",
      "\n"
     ]
    }
   ],
   "source": [
    "data_dict_copy = data_dict.copy()\n",
    "for song_name, song_data in data_dict_copy.items():\n",
    "    split_points = []\n",
    "    for note_idx, note in song_data.iterrows():\n",
    "        if note.time_to_next > 9:\n",
    "            split_points.append(note_idx+1)\n",
    "\n",
    "    if len(split_points):\n",
    "        split_points.append(song_data.shape[0])\n",
    "        data_dict.pop(song_name)\n",
    "        print(f\"Removed {song_name} from data dictionary:\")\n",
    "        start_point = 0\n",
    "        subtrack_cnt = 0\n",
    "        for split_point in split_points:\n",
    "            subtrack_cnt += 1\n",
    "            song_data.loc[split_point-1, \"time_to_next\"] = 0\n",
    "            data_dict.update({f\"{song_name}_SBTRK{subtrack_cnt}\": song_data.iloc[start_point:split_point, :]})\n",
    "            print(f\"\\tNew subtrack {song_name}_SBTRK{subtrack_cnt} added.\")\n",
    "            start_point = split_point\n",
    "        print()"
   ]
  },
  {
   "cell_type": "markdown",
   "metadata": {},
   "source": [
    "## New Metrics after treatment"
   ]
  },
  {
   "cell_type": "code",
   "execution_count": 16,
   "metadata": {},
   "outputs": [
    {
     "name": "stdout",
     "output_type": "stream",
     "text": [
      "Number of songs: 717\n",
      "\n"
     ]
    }
   ],
   "source": [
    "print(f\"Number of songs: {len(data_dict.keys())}\\n\")"
   ]
  },
  {
   "cell_type": "code",
   "execution_count": 17,
   "metadata": {},
   "outputs": [
    {
     "name": "stdout",
     "output_type": "stream",
     "text": [
      "\n",
      "About note duration (in seconds):\n",
      "count    789917.000000\n",
      "mean          0.416346\n",
      "std           0.448034\n",
      "min           0.065909\n",
      "25%           0.170455\n",
      "50%           0.250000\n",
      "75%           0.500000\n",
      "max           7.000000\n",
      "dtype: float64\n"
     ]
    },
    {
     "data": {
      "text/plain": [
       "<AxesSubplot:title={'center':'Note duration'}>"
      ]
     },
     "execution_count": 17,
     "metadata": {},
     "output_type": "execute_result"
    },
    {
     "data": {
      "image/png": "[encoded data removed]",
      "text/plain": [
       "<Figure size 432x288 with 1 Axes>"
      ]
     },
     "metadata": {
      "needs_background": "light"
     },
     "output_type": "display_data"
    }
   ],
   "source": [
    "note_duration = pd.Series(dtype=\"float64\")\n",
    "for song in data_dict.values():\n",
    "    note_duration = pd.concat([note_duration, song['duration']])\n",
    "print(\"\\nAbout note duration (in seconds):\")\n",
    "print(note_duration.describe())\n",
    "note_duration.plot.box(title='Note duration')"
   ]
  },
  {
   "cell_type": "code",
   "execution_count": 18,
   "metadata": {},
   "outputs": [
    {
     "name": "stdout",
     "output_type": "stream",
     "text": [
      "\n",
      "About time to next note (in seconds):\n",
      "count    789917.000000\n",
      "mean          0.130800\n",
      "std           0.218353\n",
      "min           0.000000\n",
      "25%           0.000000\n",
      "50%           0.000000\n",
      "75%           0.209091\n",
      "max           8.143182\n",
      "dtype: float64\n"
     ]
    },
    {
     "data": {
      "text/plain": [
       "<AxesSubplot:title={'center':'Time to Next'}>"
      ]
     },
     "execution_count": 18,
     "metadata": {},
     "output_type": "execute_result"
    },
    {
     "data": {
      "image/png": "[encoded data removed]",
      "text/plain": [
       "<Figure size 432x288 with 1 Axes>"
      ]
     },
     "metadata": {
      "needs_background": "light"
     },
     "output_type": "display_data"
    }
   ],
   "source": [
    "time_to_next = pd.Series(dtype=\"float64\")\n",
    "for song in data_dict.values():\n",
    "    time_to_next = pd.concat([time_to_next, song['time_to_next']])\n",
    "print(\"\\nAbout time to next note (in seconds):\")\n",
    "print(time_to_next.describe())\n",
    "time_to_next.plot.box(title='Time to Next')"
   ]
  },
  {
   "cell_type": "code",
   "execution_count": 19,
   "metadata": {},
   "outputs": [
    {
     "name": "stdout",
     "output_type": "stream",
     "text": [
      "\n",
      "About note pitch:\n",
      "count    789917.000000\n",
      "mean          0.501869\n",
      "std           0.143614\n",
      "min           0.000000\n",
      "25%           0.404762\n",
      "50%           0.500000\n",
      "75%           0.607143\n",
      "max           1.000000\n",
      "dtype: float64\n"
     ]
    },
    {
     "data": {
      "text/plain": [
       "<AxesSubplot:title={'center':'Pitch'}>"
      ]
     },
     "execution_count": 19,
     "metadata": {},
     "output_type": "execute_result"
    },
    {
     "data": {
      "image/png": "[encoded data removed]",
      "text/plain": [
       "<Figure size 432x288 with 1 Axes>"
      ]
     },
     "metadata": {
      "needs_background": "light"
     },
     "output_type": "display_data"
    }
   ],
   "source": [
    "pitch_stats = pd.Series(dtype=\"float64\")\n",
    "for song in data_dict.values():\n",
    "    pitch_stats = pd.concat([pitch_stats, song['pitch']])\n",
    "print(\"\\nAbout note pitch:\")\n",
    "print(pitch_stats.describe())\n",
    "pitch_stats.plot.box(title='Pitch')"
   ]
  },
  {
   "cell_type": "markdown",
   "metadata": {},
   "source": [
    "## Storing the data\n",
    "\n",
    "Lastly, the data can be stored as a JSON file."
   ]
  },
  {
   "cell_type": "code",
   "execution_count": 20,
   "metadata": {},
   "outputs": [],
   "source": [
    "with open('.\\\\data\\\\treated_data.json', 'w+') as f:\n",
    "    data_to_store = {}\n",
    "    for song in data_dict:\n",
    "        data_to_store.update({song: data_dict[song].to_json()})\n",
    "    json.dump(data_to_store, f, indent=2)"
   ]
  }
 ],
 "metadata": {
  "kernelspec": {
   "display_name": "Python 3.10.5 ('venv': venv)",
   "language": "python",
   "name": "python3"
  },
  "language_info": {
   "codemirror_mode": {
    "name": "ipython",
    "version": 3
   },
   "file_extension": ".py",
   "mimetype": "text/x-python",
   "name": "python",
   "nbconvert_exporter": "python",
   "pygments_lexer": "ipython3",
   "version": "3.10.5"
  },
  "orig_nbformat": 4,
  "vscode": {
   "interpreter": {
    "hash": "9557642ed31844b903319b561864a8ef0da5c7b931996e0f6ddf8b44d6bc5235"
   }
  }
 },
 "nbformat": 4,
 "nbformat_minor": 2
}
