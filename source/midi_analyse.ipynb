{
 "cells": [
  {
   "cell_type": "markdown",
   "metadata": {},
   "source": [
    "Analysis of a MIDI file, check for number of instruments and note structure"
   ]
  },
  {
   "cell_type": "code",
   "execution_count": 1,
   "metadata": {},
   "outputs": [],
   "source": [
    "import pretty_midi\n",
    "import glob"
   ]
  },
  {
   "cell_type": "code",
   "execution_count": 2,
   "metadata": {},
   "outputs": [
    {
     "name": "stdout",
     "output_type": "stream",
     "text": [
      "[Instrument(program=0, is_drum=False, name=\"up:\"), Instrument(program=0, is_drum=False, name=\"down:\")] [Note(start=0.000000, end=0.500000, pitch=71, velocity=86), Note(start=0.500000, end=0.750000, pitch=74, velocity=86), Note(start=0.750000, end=1.000000, pitch=71, velocity=86), Note(start=1.000000, end=1.500000, pitch=67, velocity=86), Note(start=2.500000, end=3.000000, pitch=71, velocity=86)]\n"
     ]
    },
    {
     "name": "stderr",
     "output_type": "stream",
     "text": [
      "c:\\Users\\zai_2\\Desktop\\PUC Projeto\\venv\\lib\\site-packages\\pretty_midi\\pretty_midi.py:97: RuntimeWarning: Tempo, Key or Time signature change events found on non-zero tracks.  This is not a valid type 0 or type 1 MIDI file.  Tempo, Key or Time Signature may be wrong.\n",
      "  warnings.warn(\n"
     ]
    }
   ],
   "source": [
    "midi_data = pretty_midi.PrettyMIDI(r\"..\\midi\\downloaded_midi\\3_SATZ_AUS_DER_SONATE_IN_GDUR.mid\")\n",
    "print(midi_data.instruments, midi_data.instruments[0].notes[:5])"
   ]
  },
  {
   "cell_type": "code",
   "execution_count": 3,
   "metadata": {},
   "outputs": [
    {
     "name": "stdout",
     "output_type": "stream",
     "text": [
      "1. ..\\midi\\downloaded_midi\\ALL_MY_HEART_THIS_NIGHT_REJOICES.mid :\n",
      "\t1.1 Reed: Oboe\n",
      "\t1.2 Reed: English Horn\n",
      "\t1.3 Strings: Viola\n",
      "\t1.4 Strings: Cello\n",
      "\t1.5 Organ: Church Organ\n",
      "\t1.6 Organ: Church Organ\n",
      "2. ..\\midi\\downloaded_midi\\DAS_WOHLTEMPERIERTE_CLAVIER_II_FUGA_IX.mid :\n",
      "\t2.1 Pipe: Pan Flute\n",
      "\t2.2 Pipe: Recorder\n",
      "\t2.3 Pipe: Pan Flute\n",
      "\t2.4 Pipe: Recorder\n",
      "\t2.5 Pipe: Pan Flute\n",
      "\t2.6 Pipe: Recorder\n",
      "\t2.7 Pipe: Pan Flute\n",
      "\t2.8 Pipe: Pan Flute\n",
      "3. ..\\midi\\downloaded_midi\\DAS_WOHLTEMPERIERTE_CLAVIER_I_FUGA_XXIV.mid :\n",
      "\t3.1 Piano: Acoustic Grand Piano\n",
      "\t3.2 Piano: Acoustic Grand Piano\n",
      "\t3.3 Piano: Acoustic Grand Piano\n",
      "\t3.4 Piano: Acoustic Grand Piano\n",
      "\t3.5 Piano: Acoustic Grand Piano\n",
      "4. ..\\midi\\downloaded_midi\\DER_HIRT_AUF_DEM_FELSEN.mid :\n",
      "\t4.1 Reed: Clarinet\n",
      "\t4.2 Organ: Harmonica\n",
      "\t4.3 Pipe: Pan Flute\n",
      "\t4.4 Piano: Acoustic Grand Piano\n",
      "\t4.5 Piano: Bright Acoustic Piano\n",
      "5. ..\\midi\\downloaded_midi\\ENFANTILLAGES_PITTORESQUES.mid :\n",
      "\t5.1 Piano: Acoustic Grand Piano\n",
      "\t5.2 Piano: Acoustic Grand Piano\n",
      "\t5.3 Piano: Acoustic Grand Piano\n",
      "\t5.4 Piano: Acoustic Grand Piano\n",
      "\t5.5 Piano: Acoustic Grand Piano\n",
      "\t5.6 Piano: Acoustic Grand Piano\n",
      "6. ..\\midi\\downloaded_midi\\ERLKNIG.mid :\n",
      "\t6.1 Brass: Trumpet\n",
      "\t6.2 Reed: Clarinet\n",
      "\t6.3 Organ: Harmonica\n",
      "\t6.4 Pipe: Pan Flute\n",
      "\t6.5 Brass: Trombone\n",
      "\t6.6 Piano: Acoustic Grand Piano\n",
      "\t6.7 Piano: Acoustic Grand Piano\n",
      "7. ..\\midi\\downloaded_midi\\ERLKNIG_ALTERNATIVE_TYPESETTING.mid :\n",
      "\t7.1 Brass: Trumpet\n",
      "\t7.2 Reed: Clarinet\n",
      "\t7.3 Organ: Harmonica\n",
      "\t7.4 Pipe: Pan Flute\n",
      "\t7.5 Brass: Trombone\n",
      "\t7.6 Piano: Acoustic Grand Piano\n",
      "\t7.7 Piano: Acoustic Grand Piano\n",
      "8. ..\\midi\\downloaded_midi\\IMPROMPTU_IN_GESDUR.mid :\n",
      "\t8.1 Piano: Acoustic Grand Piano\n",
      "\t8.2 Piano: Acoustic Grand Piano\n",
      "\t8.3 Piano: Acoustic Grand Piano\n",
      "\t8.4 Piano: Acoustic Grand Piano\n",
      "\t8.5 Piano: Acoustic Grand Piano\n",
      "9. ..\\midi\\downloaded_midi\\LES_DJINNS.mid :\n",
      "\t9.1 Piano: Acoustic Grand Piano\n",
      "\t9.2 Piano: Acoustic Grand Piano\n",
      "\t9.3 Piano: Acoustic Grand Piano\n",
      "\t9.4 Piano: Acoustic Grand Piano\n",
      "\t9.5 Piano: Acoustic Grand Piano\n",
      "\t9.6 Piano: Acoustic Grand Piano\n",
      "10. ..\\midi\\downloaded_midi\\MUSIKALISCHES_OPFER_RICERCARE_A_6.mid :\n",
      "\t10.1 Piano: Acoustic Grand Piano\n",
      "\t10.2 Piano: Acoustic Grand Piano\n",
      "\t10.3 Piano: Acoustic Grand Piano\n",
      "\t10.4 Piano: Acoustic Grand Piano\n",
      "\t10.5 Piano: Acoustic Grand Piano\n",
      "\t10.6 Piano: Acoustic Grand Piano\n",
      "11. ..\\midi\\downloaded_midi\\OH_BOATMAN_HASTE.mid :\n",
      "\t11.1 Piano: Acoustic Grand Piano\n",
      "\t11.2 Piano: Acoustic Grand Piano\n",
      "\t11.3 Piano: Acoustic Grand Piano\n",
      "\t11.4 Piano: Acoustic Grand Piano\n",
      "\t11.5 Piano: Acoustic Grand Piano\n",
      "\t11.6 Piano: Acoustic Grand Piano\n",
      "12. ..\\midi\\downloaded_midi\\PIANO_CONCERTO_NO_3_IN_C_MINOR_1ST_MOVEMENT_ALLEGRO_CON_BRIO.mid :\n",
      "\t12.1 Pipe: Flute\n",
      "\t12.2 Reed: Oboe\n",
      "\t12.3 Reed: Clarinet\n",
      "\t12.4 Reed: Bassoon\n",
      "\t12.5 Reed: English Horn\n",
      "\t12.6 Reed: English Horn\n",
      "\t12.7 Strings: Timpani\n",
      "\t12.8 Piano: Acoustic Grand Piano\n",
      "\t12.9 Piano: Acoustic Grand Piano\n",
      "\t12.10 Strings: Violin\n",
      "\t12.11 Strings: Violin\n",
      "\t12.12 Strings: Viola\n",
      "\t12.13 Strings: Contrabass\n",
      "13. ..\\midi\\downloaded_midi\\PRELUDE_OP_23_NO_4.mid :\n",
      "\t13.1 Piano: Acoustic Grand Piano\n",
      "\t13.2 Piano: Acoustic Grand Piano\n",
      "\t13.3 Piano: Acoustic Grand Piano\n",
      "\t13.4 Piano: Acoustic Grand Piano\n",
      "\t13.5 Piano: Acoustic Grand Piano\n",
      "\t13.6 Piano: Acoustic Grand Piano\n",
      "14. ..\\midi\\downloaded_midi\\PRELUDE_OP_23_NO_6.mid :\n",
      "\t14.1 Piano: Acoustic Grand Piano\n",
      "\t14.2 Piano: Acoustic Grand Piano\n",
      "\t14.3 Piano: Acoustic Grand Piano\n",
      "\t14.4 Piano: Acoustic Grand Piano\n",
      "\t14.5 Piano: Acoustic Grand Piano\n",
      "\t14.6 Piano: Acoustic Grand Piano\n",
      "15. ..\\midi\\downloaded_midi\\PSALM_23.mid :\n",
      "\t15.1 Reed: Clarinet\n",
      "\t15.2 Reed: Clarinet\n",
      "\t15.3 Pipe: Flute\n",
      "\t15.4 Pipe: Flute\n",
      "\t15.5 Piano: Acoustic Grand Piano\n",
      "\t15.6 Piano: Acoustic Grand Piano\n",
      "16. ..\\midi\\downloaded_midi\\THERES_MUSIC_IN_THE_AIR.mid :\n",
      "\t16.1 Piano: Acoustic Grand Piano\n",
      "\t16.2 Piano: Acoustic Grand Piano\n",
      "\t16.3 Piano: Acoustic Grand Piano\n",
      "\t16.4 Piano: Acoustic Grand Piano\n",
      "\t16.5 Piano: Acoustic Grand Piano\n",
      "\t16.6 Piano: Acoustic Grand Piano\n"
     ]
    }
   ],
   "source": [
    "# check for tracks that have more than 4 instruments\n",
    "midi_files = glob.glob(r\"..\\midi\\downloaded_midi\\*\")\n",
    "counter = 1\n",
    "\n",
    "for midi_file in midi_files:\n",
    "    midi_data = pretty_midi.PrettyMIDI(midi_file)\n",
    "    number_of_instruments = len(midi_data.instruments)\n",
    "    if len(midi_data.instruments) > 4:\n",
    "        print(f\"{counter}. {midi_file} :\")\n",
    "        for instrument_counter, instrument in enumerate(midi_data.instruments):\n",
    "            print(f\"\\t{counter}.{instrument_counter+1} \" +\n",
    "                f\"{pretty_midi.program_to_instrument_class(instrument.program)}: \" +\n",
    "                f\"{pretty_midi.program_to_instrument_name(instrument.program)}\")\n",
    "        counter += 1"
   ]
  },
  {
   "cell_type": "markdown",
   "metadata": {},
   "source": [
    "Pre-treatment of MIDI Data: For all downloaded MIDI files, remove all tracks which Intrument program (intrument sound) falls either on the Piano or Organ categories.\n",
    "\n",
    "Also, merge all tracks into one, for easier management on the model training phase."
   ]
  },
  {
   "cell_type": "code",
   "execution_count": 4,
   "metadata": {},
   "outputs": [
    {
     "name": "stdout",
     "output_type": "stream",
     "text": [
      "..\\midi\\downloaded_midi\\DAS_WOHLTEMPERIERTE_CLAVIER_II_FUGA_IX.mid has no valid tracks!\n",
      "..\\midi\\downloaded_midi\\DIE_KUNST_DER_FUGE_CONTRAPUNCTUS_I.mid has no valid tracks!\n",
      "..\\midi\\downloaded_midi\\DIE_VGEL.mid has no valid tracks!\n",
      "..\\midi\\downloaded_midi\\FRHLINGSGLAUBE.mid has no valid tracks!\n",
      "..\\midi\\downloaded_midi\\MATTHUS_PASSION_CHORAL_O_HAUPT_VOLL_BLUT_UND_WUNDE.mid has no valid tracks!\n"
     ]
    }
   ],
   "source": [
    "treated_midi = pretty_midi.PrettyMIDI()\n",
    "treated_piano = pretty_midi.Instrument(\n",
    "    pretty_midi.instrument_name_to_program('Acoustic Grand Piano'),\n",
    "    name = 'Piano'\n",
    ")\n",
    "for midi_file in midi_files:\n",
    "    treated_piano.notes = []\n",
    "    treated_midi.instruments = []\n",
    "    midi_track = pretty_midi.PrettyMIDI(midi_file)\n",
    "    valid_instruments = [instrument for instrument in midi_track.instruments \\\n",
    "        if pretty_midi.program_to_instrument_class(instrument.program) in [\"Piano\", \"Organ\"]]\n",
    "    if len(valid_instruments) == 0:\n",
    "        print(f\"{midi_file} has no valid tracks!\")\n",
    "        continue\n",
    "    for instrument in valid_instruments:\n",
    "        for note in instrument.notes:\n",
    "            note.velocity = 60 # all notes will have the same velocity, as it is not really relevant for structure\n",
    "            treated_piano.notes.append(note)\n",
    "    if len(treated_piano.notes) < 10:\n",
    "        print(f\"{midi_file} has not enough notes!\")\n",
    "    treated_midi.instruments.append(treated_piano)\n",
    "    treated_midi.write(midi_file.replace('downloaded', 'treated'))"
   ]
  }
 ],
 "metadata": {
  "interpreter": {
   "hash": "93f05f2af20d9a618d26a8ffda4f3752ddcdcb4dc88f5cc382466b87115fd2ce"
  },
  "kernelspec": {
   "display_name": "Python 3.9.0 ('venv': venv)",
   "language": "python",
   "name": "python3"
  },
  "language_info": {
   "codemirror_mode": {
    "name": "ipython",
    "version": 3
   },
   "file_extension": ".py",
   "mimetype": "text/x-python",
   "name": "python",
   "nbconvert_exporter": "python",
   "pygments_lexer": "ipython3",
   "version": "3.9.0"
  },
  "orig_nbformat": 4
 },
 "nbformat": 4,
 "nbformat_minor": 2
}
